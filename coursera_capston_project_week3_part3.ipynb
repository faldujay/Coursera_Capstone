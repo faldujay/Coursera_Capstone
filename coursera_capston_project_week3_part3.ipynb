{
 "cells": [
  {
   "cell_type": "markdown",
   "metadata": {},
   "source": [
    "## Author :- Jay Faldu\n",
    "#### Email id :- jay.faldu928@gmail.com "
   ]
  },
  {
   "cell_type": "markdown",
   "metadata": {},
   "source": [
    "# ----------------------------------------------------------------------------------------\n",
    "# Applied Data science Capstone Project\n",
    "# ----------------------------------------------------------------------------------------"
   ]
  },
  {
   "cell_type": "markdown",
   "metadata": {},
   "source": [
    "### Introduction of project:-\n",
    "\n",
    "    This project is part of IBM Data Science Professional certification."
   ]
  },
  {
   "cell_type": "markdown",
   "metadata": {},
   "source": [
    "###     \n",
    "\n",
    "\n",
    "\n",
    "\n",
    "### let's start the project!!!"
   ]
  },
  {
   "cell_type": "code",
   "execution_count": 1,
   "metadata": {},
   "outputs": [
    {
     "name": "stdout",
     "output_type": "stream",
     "text": [
      "Requirement already satisfied: geopy in c:\\users\\administrator\\anaconda3\\lib\\site-packages (1.22.0)\n",
      "Requirement already satisfied: geographiclib<2,>=1.49 in c:\\users\\administrator\\anaconda3\\lib\\site-packages (from geopy) (1.50)\n",
      "Requirement already satisfied: lxml in c:\\users\\administrator\\anaconda3\\lib\\site-packages (4.5.0)\n"
     ]
    }
   ],
   "source": [
    "!pip install geopy\n",
    "!pip install lxml\n",
    "import pandas as pd\n",
    "import numpy as np\n",
    "from geopy.geocoders import Nominatim\n",
    "import folium\n",
    "import requests\n",
    "from sklearn.cluster import KMeans\n",
    "import matplotlib.cm as cm\n",
    "import matplotlib.colors as colors\n",
    "from IPython.display import HTML"
   ]
  },
  {
   "cell_type": "code",
   "execution_count": 2,
   "metadata": {},
   "outputs": [
    {
     "name": "stdout",
     "output_type": "stream",
     "text": [
      "Hello Capstone Project Course!\n"
     ]
    }
   ],
   "source": [
    "print(\"Hello Capstone Project Course!\")"
   ]
  },
  {
   "cell_type": "markdown",
   "metadata": {},
   "source": [
    "#  \n",
    "\n",
    "\n",
    "\n",
    "\n",
    "\n",
    "\n",
    "\n",
    "# Load the Data from wikipedia (week :- 3 , part :- 1)"
   ]
  },
  {
   "cell_type": "code",
   "execution_count": 3,
   "metadata": {},
   "outputs": [
    {
     "data": {
      "text/html": [
       "<div>\n",
       "<style scoped>\n",
       "    .dataframe tbody tr th:only-of-type {\n",
       "        vertical-align: middle;\n",
       "    }\n",
       "\n",
       "    .dataframe tbody tr th {\n",
       "        vertical-align: top;\n",
       "    }\n",
       "\n",
       "    .dataframe thead th {\n",
       "        text-align: right;\n",
       "    }\n",
       "</style>\n",
       "<table border=\"1\" class=\"dataframe\">\n",
       "  <thead>\n",
       "    <tr style=\"text-align: right;\">\n",
       "      <th></th>\n",
       "      <th>Postal Code</th>\n",
       "      <th>Borough</th>\n",
       "      <th>Neighborhood</th>\n",
       "    </tr>\n",
       "  </thead>\n",
       "  <tbody>\n",
       "    <tr>\n",
       "      <th>0</th>\n",
       "      <td>M3A</td>\n",
       "      <td>North York</td>\n",
       "      <td>Parkwoods</td>\n",
       "    </tr>\n",
       "    <tr>\n",
       "      <th>1</th>\n",
       "      <td>M4A</td>\n",
       "      <td>North York</td>\n",
       "      <td>Victoria Village</td>\n",
       "    </tr>\n",
       "    <tr>\n",
       "      <th>2</th>\n",
       "      <td>M5A</td>\n",
       "      <td>Downtown Toronto</td>\n",
       "      <td>Regent Park, Harbourfront</td>\n",
       "    </tr>\n",
       "    <tr>\n",
       "      <th>3</th>\n",
       "      <td>M6A</td>\n",
       "      <td>North York</td>\n",
       "      <td>Lawrence Manor, Lawrence Heights</td>\n",
       "    </tr>\n",
       "    <tr>\n",
       "      <th>4</th>\n",
       "      <td>M7A</td>\n",
       "      <td>Downtown Toronto</td>\n",
       "      <td>Queen's Park, Ontario Provincial Government</td>\n",
       "    </tr>\n",
       "  </tbody>\n",
       "</table>\n",
       "</div>"
      ],
      "text/plain": [
       "  Postal Code           Borough                                 Neighborhood\n",
       "0         M3A        North York                                    Parkwoods\n",
       "1         M4A        North York                             Victoria Village\n",
       "2         M5A  Downtown Toronto                    Regent Park, Harbourfront\n",
       "3         M6A        North York             Lawrence Manor, Lawrence Heights\n",
       "4         M7A  Downtown Toronto  Queen's Park, Ontario Provincial Government"
      ]
     },
     "execution_count": 3,
     "metadata": {},
     "output_type": "execute_result"
    }
   ],
   "source": [
    "raw_data = pd.read_html('https://en.wikipedia.org/wiki/List_of_postal_codes_of_Canada:_M', header=0)\n",
    "data = pd.DataFrame(raw_data[0]).dropna(subset=['Neighborhood']).reset_index(drop=True)\n",
    "data.head()"
   ]
  },
  {
   "cell_type": "code",
   "execution_count": 4,
   "metadata": {},
   "outputs": [
    {
     "data": {
      "text/plain": [
       "(103, 3)"
      ]
     },
     "execution_count": 4,
     "metadata": {},
     "output_type": "execute_result"
    }
   ],
   "source": [
    "data.shape"
   ]
  },
  {
   "cell_type": "markdown",
   "metadata": {},
   "source": [
    "#    \n",
    "\n",
    "\n",
    "\n",
    "\n",
    "\n",
    "\n",
    "# (week :- 3 , part :- 2)"
   ]
  },
  {
   "cell_type": "code",
   "execution_count": 5,
   "metadata": {},
   "outputs": [
    {
     "data": {
      "text/html": [
       "<div>\n",
       "<style scoped>\n",
       "    .dataframe tbody tr th:only-of-type {\n",
       "        vertical-align: middle;\n",
       "    }\n",
       "\n",
       "    .dataframe tbody tr th {\n",
       "        vertical-align: top;\n",
       "    }\n",
       "\n",
       "    .dataframe thead th {\n",
       "        text-align: right;\n",
       "    }\n",
       "</style>\n",
       "<table border=\"1\" class=\"dataframe\">\n",
       "  <thead>\n",
       "    <tr style=\"text-align: right;\">\n",
       "      <th></th>\n",
       "      <th>Postal Code</th>\n",
       "      <th>Latitude</th>\n",
       "      <th>Longitude</th>\n",
       "    </tr>\n",
       "  </thead>\n",
       "  <tbody>\n",
       "    <tr>\n",
       "      <th>0</th>\n",
       "      <td>M1B</td>\n",
       "      <td>43.806686</td>\n",
       "      <td>-79.194353</td>\n",
       "    </tr>\n",
       "    <tr>\n",
       "      <th>1</th>\n",
       "      <td>M1C</td>\n",
       "      <td>43.784535</td>\n",
       "      <td>-79.160497</td>\n",
       "    </tr>\n",
       "    <tr>\n",
       "      <th>2</th>\n",
       "      <td>M1E</td>\n",
       "      <td>43.763573</td>\n",
       "      <td>-79.188711</td>\n",
       "    </tr>\n",
       "    <tr>\n",
       "      <th>3</th>\n",
       "      <td>M1G</td>\n",
       "      <td>43.770992</td>\n",
       "      <td>-79.216917</td>\n",
       "    </tr>\n",
       "    <tr>\n",
       "      <th>4</th>\n",
       "      <td>M1H</td>\n",
       "      <td>43.773136</td>\n",
       "      <td>-79.239476</td>\n",
       "    </tr>\n",
       "    <tr>\n",
       "      <th>...</th>\n",
       "      <td>...</td>\n",
       "      <td>...</td>\n",
       "      <td>...</td>\n",
       "    </tr>\n",
       "    <tr>\n",
       "      <th>98</th>\n",
       "      <td>M9N</td>\n",
       "      <td>43.706876</td>\n",
       "      <td>-79.518188</td>\n",
       "    </tr>\n",
       "    <tr>\n",
       "      <th>99</th>\n",
       "      <td>M9P</td>\n",
       "      <td>43.696319</td>\n",
       "      <td>-79.532242</td>\n",
       "    </tr>\n",
       "    <tr>\n",
       "      <th>100</th>\n",
       "      <td>M9R</td>\n",
       "      <td>43.688905</td>\n",
       "      <td>-79.554724</td>\n",
       "    </tr>\n",
       "    <tr>\n",
       "      <th>101</th>\n",
       "      <td>M9V</td>\n",
       "      <td>43.739416</td>\n",
       "      <td>-79.588437</td>\n",
       "    </tr>\n",
       "    <tr>\n",
       "      <th>102</th>\n",
       "      <td>M9W</td>\n",
       "      <td>43.706748</td>\n",
       "      <td>-79.594054</td>\n",
       "    </tr>\n",
       "  </tbody>\n",
       "</table>\n",
       "<p>103 rows × 3 columns</p>\n",
       "</div>"
      ],
      "text/plain": [
       "    Postal Code   Latitude  Longitude\n",
       "0           M1B  43.806686 -79.194353\n",
       "1           M1C  43.784535 -79.160497\n",
       "2           M1E  43.763573 -79.188711\n",
       "3           M1G  43.770992 -79.216917\n",
       "4           M1H  43.773136 -79.239476\n",
       "..          ...        ...        ...\n",
       "98          M9N  43.706876 -79.518188\n",
       "99          M9P  43.696319 -79.532242\n",
       "100         M9R  43.688905 -79.554724\n",
       "101         M9V  43.739416 -79.588437\n",
       "102         M9W  43.706748 -79.594054\n",
       "\n",
       "[103 rows x 3 columns]"
      ]
     },
     "execution_count": 5,
     "metadata": {},
     "output_type": "execute_result"
    }
   ],
   "source": [
    "PC = pd.read_csv('https://cocl.us/Geospatial_data')\n",
    "PC"
   ]
  },
  {
   "cell_type": "code",
   "execution_count": 6,
   "metadata": {},
   "outputs": [
    {
     "data": {
      "text/html": [
       "<div>\n",
       "<style scoped>\n",
       "    .dataframe tbody tr th:only-of-type {\n",
       "        vertical-align: middle;\n",
       "    }\n",
       "\n",
       "    .dataframe tbody tr th {\n",
       "        vertical-align: top;\n",
       "    }\n",
       "\n",
       "    .dataframe thead th {\n",
       "        text-align: right;\n",
       "    }\n",
       "</style>\n",
       "<table border=\"1\" class=\"dataframe\">\n",
       "  <thead>\n",
       "    <tr style=\"text-align: right;\">\n",
       "      <th></th>\n",
       "      <th>Postal Code</th>\n",
       "      <th>Borough</th>\n",
       "      <th>Neighborhood</th>\n",
       "      <th>Latitude</th>\n",
       "      <th>Longitude</th>\n",
       "    </tr>\n",
       "  </thead>\n",
       "  <tbody>\n",
       "    <tr>\n",
       "      <th>0</th>\n",
       "      <td>M3A</td>\n",
       "      <td>North York</td>\n",
       "      <td>Parkwoods</td>\n",
       "      <td>25    43.753259\n",
       "Name: Latitude, dtype: float64</td>\n",
       "      <td>25   -79.329656\n",
       "Name: Longitude, dtype: float64</td>\n",
       "    </tr>\n",
       "    <tr>\n",
       "      <th>1</th>\n",
       "      <td>M4A</td>\n",
       "      <td>North York</td>\n",
       "      <td>Victoria Village</td>\n",
       "      <td>34    43.725882\n",
       "Name: Latitude, dtype: float64</td>\n",
       "      <td>34   -79.315572\n",
       "Name: Longitude, dtype: float64</td>\n",
       "    </tr>\n",
       "    <tr>\n",
       "      <th>2</th>\n",
       "      <td>M5A</td>\n",
       "      <td>Downtown Toronto</td>\n",
       "      <td>Regent Park, Harbourfront</td>\n",
       "      <td>53    43.65426\n",
       "Name: Latitude, dtype: float64</td>\n",
       "      <td>53   -79.360636\n",
       "Name: Longitude, dtype: float64</td>\n",
       "    </tr>\n",
       "    <tr>\n",
       "      <th>3</th>\n",
       "      <td>M6A</td>\n",
       "      <td>North York</td>\n",
       "      <td>Lawrence Manor, Lawrence Heights</td>\n",
       "      <td>71    43.718518\n",
       "Name: Latitude, dtype: float64</td>\n",
       "      <td>71   -79.464763\n",
       "Name: Longitude, dtype: float64</td>\n",
       "    </tr>\n",
       "    <tr>\n",
       "      <th>4</th>\n",
       "      <td>M7A</td>\n",
       "      <td>Downtown Toronto</td>\n",
       "      <td>Queen's Park, Ontario Provincial Government</td>\n",
       "      <td>85    43.662301\n",
       "Name: Latitude, dtype: float64</td>\n",
       "      <td>85   -79.389494\n",
       "Name: Longitude, dtype: float64</td>\n",
       "    </tr>\n",
       "  </tbody>\n",
       "</table>\n",
       "</div>"
      ],
      "text/plain": [
       "  Postal Code           Borough                                 Neighborhood  \\\n",
       "0         M3A        North York                                    Parkwoods   \n",
       "1         M4A        North York                             Victoria Village   \n",
       "2         M5A  Downtown Toronto                    Regent Park, Harbourfront   \n",
       "3         M6A        North York             Lawrence Manor, Lawrence Heights   \n",
       "4         M7A  Downtown Toronto  Queen's Park, Ontario Provincial Government   \n",
       "\n",
       "                                         Latitude  \\\n",
       "0  25    43.753259\n",
       "Name: Latitude, dtype: float64   \n",
       "1  34    43.725882\n",
       "Name: Latitude, dtype: float64   \n",
       "2   53    43.65426\n",
       "Name: Latitude, dtype: float64   \n",
       "3  71    43.718518\n",
       "Name: Latitude, dtype: float64   \n",
       "4  85    43.662301\n",
       "Name: Latitude, dtype: float64   \n",
       "\n",
       "                                         Longitude  \n",
       "0  25   -79.329656\n",
       "Name: Longitude, dtype: float64  \n",
       "1  34   -79.315572\n",
       "Name: Longitude, dtype: float64  \n",
       "2  53   -79.360636\n",
       "Name: Longitude, dtype: float64  \n",
       "3  71   -79.464763\n",
       "Name: Longitude, dtype: float64  \n",
       "4  85   -79.389494\n",
       "Name: Longitude, dtype: float64  "
      ]
     },
     "execution_count": 6,
     "metadata": {},
     "output_type": "execute_result"
    }
   ],
   "source": [
    "longitude = list()\n",
    "\n",
    "latitude=[]\n",
    "longitude=[]\n",
    "\n",
    "for pc in data['Postal Code']:\n",
    "    i = PC.index[PC['Postal Code'] == pc].values\n",
    "    latitude.append(PC.loc[i, 'Latitude'])\n",
    "    longitude.append(PC.loc[i, 'Longitude'])\n",
    "\n",
    "data['Latitude'] = latitude\n",
    "data['Longitude'] = longitude\n",
    "\n",
    "data.head()\n"
   ]
  },
  {
   "cell_type": "code",
   "execution_count": 7,
   "metadata": {},
   "outputs": [
    {
     "data": {
      "text/plain": [
       "(103, 5)"
      ]
     },
     "execution_count": 7,
     "metadata": {},
     "output_type": "execute_result"
    }
   ],
   "source": [
    "data.shape"
   ]
  },
  {
   "cell_type": "markdown",
   "metadata": {},
   "source": [
    "#    \n",
    "\n",
    "\n",
    "\n",
    "\n",
    "\n",
    "\n",
    "# (week :- 3 , part :- 3)"
   ]
  },
  {
   "cell_type": "code",
   "execution_count": 8,
   "metadata": {},
   "outputs": [
    {
     "name": "stdout",
     "output_type": "stream",
     "text": [
      "(39, 5)\n"
     ]
    }
   ],
   "source": [
    "Toronto_data = data[data['Borough'].str.contains(\"Toronto\")].reset_index(drop=True)\n",
    "print(Toronto_data.shape)"
   ]
  },
  {
   "cell_type": "markdown",
   "metadata": {},
   "source": [
    "### information required to use Foursquare"
   ]
  },
  {
   "cell_type": "code",
   "execution_count": 9,
   "metadata": {},
   "outputs": [],
   "source": [
    "client_ID = 'XCP1LBPKA54U331UGGORSK2K0QQUOWJQPTRQP0GNWC2GFSEC' \n",
    "client_secret = 'SDJEWGFFAYGXKXONJ0LZS1QTQ2TL4RS1SYONHILPKB2J2RLF' \n",
    "version = '20200416'\n",
    "limit = 100\n",
    "radius = 500"
   ]
  },
  {
   "cell_type": "markdown",
   "metadata": {},
   "source": [
    "### extracts all the venues in the neighborhoods"
   ]
  },
  {
   "cell_type": "code",
   "execution_count": 10,
   "metadata": {},
   "outputs": [],
   "source": [
    "def get_neighborhood_venues(names, latitudes, longitudes, limit=100, radius=500):\n",
    "    venues_list = list()\n",
    "\n",
    "    for name, lat, lng in zip(names, latitudes, longitudes):\n",
    "        lat = lat.values[0]\n",
    "        lng = lng.values[0]\n",
    "\n",
    "        uri = f'https://api.foursquare.com/v2/venues/explore?&client_id={client_ID}&client_secret={client_secret}' \\\n",
    "              f'&ll={lat},{lng}&v={version}&radius={radius}&limit={limit}'\n",
    "\n",
    "        results = requests.get(uri).json()['response']['groups'][0]['items']\n",
    "\n",
    "        venues_list.append([(\n",
    "            name,\n",
    "            lat,\n",
    "            lng,\n",
    "            v['venue']['name'],\n",
    "            v['venue']['location']['lat'],\n",
    "            v['venue']['location']['lng'],\n",
    "            v['venue']['categories'][0]['name']) for v in results]\n",
    "        )\n",
    "\n",
    "        nearby_venues = pd.DataFrame([item for venue_list in venues_list for item in venue_list])\n",
    "        nearby_venues.columns = [\n",
    "            'Neighborhood',\n",
    "            'Neighborhood Latitude',\n",
    "            'Neighborhood Longitude',\n",
    "            'Venue',\n",
    "            'Venue Latitude',\n",
    "            'Venue Longitude',\n",
    "            'Venue Category'\n",
    "        ]\n",
    "\n",
    "    return nearby_venues"
   ]
  },
  {
   "cell_type": "markdown",
   "metadata": {},
   "source": [
    "###  obtain all the venues"
   ]
  },
  {
   "cell_type": "code",
   "execution_count": 11,
   "metadata": {},
   "outputs": [
    {
     "name": "stdout",
     "output_type": "stream",
     "text": [
      "(1612, 7)\n"
     ]
    }
   ],
   "source": [
    "Toronto_venues = get_neighborhood_venues(Toronto_data['Neighborhood'], Toronto_data['Latitude'], Toronto_data['Longitude'])\n",
    "print(Toronto_venues.shape)"
   ]
  },
  {
   "cell_type": "markdown",
   "metadata": {},
   "source": [
    "###  preprocesses the data to prepare it for clustering"
   ]
  },
  {
   "cell_type": "code",
   "execution_count": 12,
   "metadata": {},
   "outputs": [],
   "source": [
    "Toronto_onehot = pd.get_dummies(Toronto_venues[['Venue Category']], prefix=\"\", prefix_sep=\"\")\n",
    "\n",
    "Toronto_onehot['Neighborhood'] = Toronto_venues['Neighborhood']\n",
    "\n",
    "fixed_columns = [Toronto_onehot.columns[-1]] + list(Toronto_onehot.columns[:-1])\n",
    "Toronto_onehot = Toronto_onehot[fixed_columns]\n",
    "\n",
    "Toronto_grouped = Toronto_onehot.groupby('Neighborhood').mean().reset_index()\n",
    "Toronto_grouped_clustering = Toronto_grouped.drop('Neighborhood', 1)"
   ]
  },
  {
   "cell_type": "markdown",
   "metadata": {},
   "source": [
    "### most common venues"
   ]
  },
  {
   "cell_type": "code",
   "execution_count": 13,
   "metadata": {},
   "outputs": [
    {
     "name": "stdout",
     "output_type": "stream",
     "text": [
      "(39, 11)\n"
     ]
    }
   ],
   "source": [
    "def return_most_common_venues(row, num_top_venues):\n",
    "    row_categories = row.iloc[1:]\n",
    "    row_categories_sorted = row_categories.sort_values(ascending=False)\n",
    "\n",
    "    return row_categories_sorted.index.values[0:num_top_venues]\n",
    "\n",
    "num_top_venues = 10\n",
    "\n",
    "indicators = ['st', 'nd', 'rd']\n",
    "\n",
    "# create columns according to number of top venues\n",
    "columns = ['Neighborhood']\n",
    "for ind in np.arange(num_top_venues):\n",
    "    try:\n",
    "        columns.append('{}{} Most Common Venue'.format(ind+1, indicators[ind]))\n",
    "    except:\n",
    "        columns.append('{}th Most Common Venue'.format(ind+1))\n",
    "\n",
    "# create a new dataframe\n",
    "neighborhoods_venues_sorted = pd.DataFrame(columns=columns)\n",
    "neighborhoods_venues_sorted['Neighborhood'] = Toronto_grouped['Neighborhood']\n",
    "\n",
    "for ind in np.arange(Toronto_grouped.shape[0]):\n",
    "    neighborhoods_venues_sorted.iloc[ind, 1:] = return_most_common_venues(Toronto_grouped.iloc[ind, :], num_top_venues)\n",
    "    \n",
    "print(neighborhoods_venues_sorted.shape)"
   ]
  },
  {
   "cell_type": "markdown",
   "metadata": {},
   "source": [
    "### k-means clustering"
   ]
  },
  {
   "cell_type": "code",
   "execution_count": 14,
   "metadata": {},
   "outputs": [],
   "source": [
    "kclusters = 5\n",
    "kmeans = KMeans(n_clusters=kclusters, random_state=0).fit(Toronto_grouped_clustering)\n",
    "\n",
    "neighborhoods_venues_sorted.insert(0, 'Cluster Labels', kmeans.labels_)"
   ]
  },
  {
   "cell_type": "markdown",
   "metadata": {},
   "source": [
    "### merges the data from Toronto to sort them based on neighborhood"
   ]
  },
  {
   "cell_type": "code",
   "execution_count": 15,
   "metadata": {},
   "outputs": [],
   "source": [
    "Toronto_merged = Toronto_data\n",
    "\n",
    "Toronto_merged = Toronto_merged.join(neighborhoods_venues_sorted.set_index('Neighborhood'), on='Neighborhood')"
   ]
  },
  {
   "cell_type": "markdown",
   "metadata": {},
   "source": [
    "### creates a map of Toronto with the associated 5 clusters previously found.¶"
   ]
  },
  {
   "cell_type": "code",
   "execution_count": 16,
   "metadata": {
    "scrolled": true
   },
   "outputs": [
    {
     "data": {
      "text/html": [
       "<div style=\"width:100%;\"><div style=\"position:relative;width:100%;height:0;padding-bottom:60%;\"><iframe src=\"about:blank\" style=\"position:absolute;width:100%;height:100%;left:0;top:0;border:none !important;\" data-html=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 onload=\"this.contentDocument.open();this.contentDocument.write(atob(this.getAttribute('data-html')));this.contentDocument.close();\" allowfullscreen webkitallowfullscreen mozallowfullscreen></iframe></div></div>"
      ],
      "text/plain": [
       "<folium.folium.Map at 0x226063178c8>"
      ]
     },
     "execution_count": 16,
     "metadata": {},
     "output_type": "execute_result"
    }
   ],
   "source": [
    "address = 'Toronto, Ontario'\n",
    "geolocator = Nominatim(user_agent=\"Toronto_explorer\")\n",
    "location = geolocator.geocode(address)\n",
    "Toronto_latitude = location.latitude\n",
    "Toronto_longitude = location.longitude\n",
    "\n",
    "map_clusters = folium.Map(location=[Toronto_latitude, Toronto_longitude], zoom_start=12)\n",
    "\n",
    "x = np.arange(kclusters)\n",
    "ys = [i + x + (i * x) ** 2 for i in range(kclusters)]\n",
    "colors_array = cm.rainbow(np.linspace(0, 1, len(ys)))\n",
    "rainbow = [colors.rgb2hex(i) for i in colors_array]\n",
    "\n",
    "markers_colors = []\n",
    "for lat, lon, poi, cluster in zip(Toronto_merged['Latitude'], Toronto_merged['Longitude'],\n",
    "                                  Toronto_merged['Neighborhood'], Toronto_merged['Cluster Labels']):\n",
    "    label = folium.Popup(str(poi) + ' Cluster ' + str(cluster), parse_html=True)\n",
    "    folium.CircleMarker(\n",
    "        [lat, lon],\n",
    "        radius=5,\n",
    "        popup=label,\n",
    "        color=rainbow[cluster - 1],\n",
    "        fill=True,\n",
    "        fill_color=rainbow[cluster - 1],\n",
    "        fill_opacity=0.7).add_to(map_clusters)\n",
    "\n",
    "map_clusters"
   ]
  },
  {
   "cell_type": "code",
   "execution_count": 17,
   "metadata": {},
   "outputs": [
    {
     "data": {
      "text/plain": [
       "19    Pool\n",
       "Name: 1st Most Common Venue, dtype: object"
      ]
     },
     "execution_count": 17,
     "metadata": {},
     "output_type": "execute_result"
    }
   ],
   "source": [
    "Toronto_merged.loc[Toronto_merged['Cluster Labels'] == 0, '1st Most Common Venue']\n",
    "Toronto_merged.loc[Toronto_merged['Cluster Labels'] == 1, '1st Most Common Venue']\n",
    "Toronto_merged.loc[Toronto_merged['Cluster Labels'] == 2, '1st Most Common Venue']\n",
    "Toronto_merged.loc[Toronto_merged['Cluster Labels'] == 3, '1st Most Common Venue']\n",
    "Toronto_merged.loc[Toronto_merged['Cluster Labels'] == 4, '1st Most Common Venue']"
   ]
  },
  {
   "cell_type": "code",
   "execution_count": 18,
   "metadata": {
    "scrolled": true
   },
   "outputs": [
    {
     "data": {
      "text/html": [
       "<div>\n",
       "<style scoped>\n",
       "    .dataframe tbody tr th:only-of-type {\n",
       "        vertical-align: middle;\n",
       "    }\n",
       "\n",
       "    .dataframe tbody tr th {\n",
       "        vertical-align: top;\n",
       "    }\n",
       "\n",
       "    .dataframe thead th {\n",
       "        text-align: right;\n",
       "    }\n",
       "</style>\n",
       "<table border=\"1\" class=\"dataframe\">\n",
       "  <thead>\n",
       "    <tr style=\"text-align: right;\">\n",
       "      <th></th>\n",
       "      <th>Postal Code</th>\n",
       "      <th>Borough</th>\n",
       "      <th>Neighborhood</th>\n",
       "      <th>Latitude</th>\n",
       "      <th>Longitude</th>\n",
       "      <th>Cluster Labels</th>\n",
       "      <th>1st Most Common Venue</th>\n",
       "      <th>2nd Most Common Venue</th>\n",
       "      <th>3rd Most Common Venue</th>\n",
       "      <th>4th Most Common Venue</th>\n",
       "      <th>5th Most Common Venue</th>\n",
       "      <th>6th Most Common Venue</th>\n",
       "      <th>7th Most Common Venue</th>\n",
       "      <th>8th Most Common Venue</th>\n",
       "      <th>9th Most Common Venue</th>\n",
       "      <th>10th Most Common Venue</th>\n",
       "    </tr>\n",
       "  </thead>\n",
       "  <tbody>\n",
       "    <tr>\n",
       "      <th>0</th>\n",
       "      <td>M5A</td>\n",
       "      <td>Downtown Toronto</td>\n",
       "      <td>Regent Park, Harbourfront</td>\n",
       "      <td>53    43.65426\n",
       "Name: Latitude, dtype: float64</td>\n",
       "      <td>53   -79.360636\n",
       "Name: Longitude, dtype: float64</td>\n",
       "      <td>0</td>\n",
       "      <td>Coffee Shop</td>\n",
       "      <td>Park</td>\n",
       "      <td>Bakery</td>\n",
       "      <td>Pub</td>\n",
       "      <td>Breakfast Spot</td>\n",
       "      <td>Restaurant</td>\n",
       "      <td>Café</td>\n",
       "      <td>Theater</td>\n",
       "      <td>Mexican Restaurant</td>\n",
       "      <td>Shoe Store</td>\n",
       "    </tr>\n",
       "    <tr>\n",
       "      <th>1</th>\n",
       "      <td>M7A</td>\n",
       "      <td>Downtown Toronto</td>\n",
       "      <td>Queen's Park, Ontario Provincial Government</td>\n",
       "      <td>85    43.662301\n",
       "Name: Latitude, dtype: float64</td>\n",
       "      <td>85   -79.389494\n",
       "Name: Longitude, dtype: float64</td>\n",
       "      <td>0</td>\n",
       "      <td>Coffee Shop</td>\n",
       "      <td>Bank</td>\n",
       "      <td>Beer Bar</td>\n",
       "      <td>Smoothie Shop</td>\n",
       "      <td>Sandwich Place</td>\n",
       "      <td>Burrito Place</td>\n",
       "      <td>Café</td>\n",
       "      <td>Park</td>\n",
       "      <td>College Auditorium</td>\n",
       "      <td>College Cafeteria</td>\n",
       "    </tr>\n",
       "    <tr>\n",
       "      <th>2</th>\n",
       "      <td>M5B</td>\n",
       "      <td>Downtown Toronto</td>\n",
       "      <td>Garden District, Ryerson</td>\n",
       "      <td>54    43.657162\n",
       "Name: Latitude, dtype: float64</td>\n",
       "      <td>54   -79.378937\n",
       "Name: Longitude, dtype: float64</td>\n",
       "      <td>0</td>\n",
       "      <td>Clothing Store</td>\n",
       "      <td>Coffee Shop</td>\n",
       "      <td>Cosmetics Shop</td>\n",
       "      <td>Italian Restaurant</td>\n",
       "      <td>Middle Eastern Restaurant</td>\n",
       "      <td>Japanese Restaurant</td>\n",
       "      <td>Café</td>\n",
       "      <td>Restaurant</td>\n",
       "      <td>Bubble Tea Shop</td>\n",
       "      <td>Diner</td>\n",
       "    </tr>\n",
       "    <tr>\n",
       "      <th>3</th>\n",
       "      <td>M5C</td>\n",
       "      <td>Downtown Toronto</td>\n",
       "      <td>St. James Town</td>\n",
       "      <td>55    43.651494\n",
       "Name: Latitude, dtype: float64</td>\n",
       "      <td>55   -79.375418\n",
       "Name: Longitude, dtype: float64</td>\n",
       "      <td>0</td>\n",
       "      <td>Café</td>\n",
       "      <td>Coffee Shop</td>\n",
       "      <td>Cocktail Bar</td>\n",
       "      <td>Restaurant</td>\n",
       "      <td>Gastropub</td>\n",
       "      <td>American Restaurant</td>\n",
       "      <td>Italian Restaurant</td>\n",
       "      <td>Gym</td>\n",
       "      <td>Department Store</td>\n",
       "      <td>Clothing Store</td>\n",
       "    </tr>\n",
       "    <tr>\n",
       "      <th>4</th>\n",
       "      <td>M4E</td>\n",
       "      <td>East Toronto</td>\n",
       "      <td>The Beaches</td>\n",
       "      <td>37    43.676357\n",
       "Name: Latitude, dtype: float64</td>\n",
       "      <td>37   -79.293031\n",
       "Name: Longitude, dtype: float64</td>\n",
       "      <td>0</td>\n",
       "      <td>Trail</td>\n",
       "      <td>Pub</td>\n",
       "      <td>Health Food Store</td>\n",
       "      <td>Women's Store</td>\n",
       "      <td>Dance Studio</td>\n",
       "      <td>Deli / Bodega</td>\n",
       "      <td>Department Store</td>\n",
       "      <td>Dessert Shop</td>\n",
       "      <td>Diner</td>\n",
       "      <td>Cuban Restaurant</td>\n",
       "    </tr>\n",
       "  </tbody>\n",
       "</table>\n",
       "</div>"
      ],
      "text/plain": [
       "  Postal Code           Borough                                 Neighborhood  \\\n",
       "0         M5A  Downtown Toronto                    Regent Park, Harbourfront   \n",
       "1         M7A  Downtown Toronto  Queen's Park, Ontario Provincial Government   \n",
       "2         M5B  Downtown Toronto                     Garden District, Ryerson   \n",
       "3         M5C  Downtown Toronto                               St. James Town   \n",
       "4         M4E      East Toronto                                  The Beaches   \n",
       "\n",
       "                                         Latitude  \\\n",
       "0   53    43.65426\n",
       "Name: Latitude, dtype: float64   \n",
       "1  85    43.662301\n",
       "Name: Latitude, dtype: float64   \n",
       "2  54    43.657162\n",
       "Name: Latitude, dtype: float64   \n",
       "3  55    43.651494\n",
       "Name: Latitude, dtype: float64   \n",
       "4  37    43.676357\n",
       "Name: Latitude, dtype: float64   \n",
       "\n",
       "                                         Longitude  Cluster Labels  \\\n",
       "0  53   -79.360636\n",
       "Name: Longitude, dtype: float64               0   \n",
       "1  85   -79.389494\n",
       "Name: Longitude, dtype: float64               0   \n",
       "2  54   -79.378937\n",
       "Name: Longitude, dtype: float64               0   \n",
       "3  55   -79.375418\n",
       "Name: Longitude, dtype: float64               0   \n",
       "4  37   -79.293031\n",
       "Name: Longitude, dtype: float64               0   \n",
       "\n",
       "  1st Most Common Venue 2nd Most Common Venue 3rd Most Common Venue  \\\n",
       "0           Coffee Shop                  Park                Bakery   \n",
       "1           Coffee Shop                  Bank              Beer Bar   \n",
       "2        Clothing Store           Coffee Shop        Cosmetics Shop   \n",
       "3                  Café           Coffee Shop          Cocktail Bar   \n",
       "4                 Trail                   Pub     Health Food Store   \n",
       "\n",
       "  4th Most Common Venue      5th Most Common Venue 6th Most Common Venue  \\\n",
       "0                   Pub             Breakfast Spot            Restaurant   \n",
       "1         Smoothie Shop             Sandwich Place         Burrito Place   \n",
       "2    Italian Restaurant  Middle Eastern Restaurant   Japanese Restaurant   \n",
       "3            Restaurant                  Gastropub   American Restaurant   \n",
       "4         Women's Store               Dance Studio         Deli / Bodega   \n",
       "\n",
       "  7th Most Common Venue 8th Most Common Venue 9th Most Common Venue  \\\n",
       "0                  Café               Theater    Mexican Restaurant   \n",
       "1                  Café                  Park    College Auditorium   \n",
       "2                  Café            Restaurant       Bubble Tea Shop   \n",
       "3    Italian Restaurant                   Gym      Department Store   \n",
       "4      Department Store          Dessert Shop                 Diner   \n",
       "\n",
       "  10th Most Common Venue  \n",
       "0             Shoe Store  \n",
       "1      College Cafeteria  \n",
       "2                  Diner  \n",
       "3         Clothing Store  \n",
       "4       Cuban Restaurant  "
      ]
     },
     "execution_count": 18,
     "metadata": {},
     "output_type": "execute_result"
    }
   ],
   "source": [
    "Toronto_merged.head()"
   ]
  },
  {
   "cell_type": "code",
   "execution_count": 19,
   "metadata": {
    "scrolled": true
   },
   "outputs": [
    {
     "data": {
      "text/plain": [
       "(39, 16)"
      ]
     },
     "execution_count": 19,
     "metadata": {},
     "output_type": "execute_result"
    }
   ],
   "source": [
    "Toronto_merged.shape"
   ]
  }
 ],
 "metadata": {
  "kernelspec": {
   "display_name": "Python 3",
   "language": "python",
   "name": "python3"
  },
  "language_info": {
   "codemirror_mode": {
    "name": "ipython",
    "version": 3
   },
   "file_extension": ".py",
   "mimetype": "text/x-python",
   "name": "python",
   "nbconvert_exporter": "python",
   "pygments_lexer": "ipython3",
   "version": "3.7.6"
  }
 },
 "nbformat": 4,
 "nbformat_minor": 4
}
